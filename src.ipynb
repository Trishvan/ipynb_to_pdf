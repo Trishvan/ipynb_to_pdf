{
  "cells": [
    {
      "cell_type": "code",
      "source": [
        "# Step 1: Install necessary dependencies\n",
        "!pip install nbconvert\n",
        "!apt-get install texlive-xetex texlive-fonts-recommended texlive-plain-generic\n",
        "\n",
        "# Step 2: Upload the .ipynb file\n",
        "from google.colab import files\n",
        "uploaded = files.upload()\n",
        "\n",
        "# Step 3: Convert the .ipynb file to .pdf\n",
        "import os\n",
        "\n",
        "# Extract the uploaded filename\n",
        "notebook_filename = list(uploaded.keys())[0]\n",
        "\n",
        "# Convert the notebook to PDF\n",
        "os.system(f\"jupyter nbconvert --to pdf {notebook_filename}\")\n",
        "\n",
        "# Step 4: Download the generated PDF\n",
        "output_pdf = notebook_filename.replace('.ipynb', '.pdf')\n",
        "\n",
        "from google.colab import files\n",
        "files.download(output_pdf)\n"
      ],
      "metadata": {
        "collapsed": true,
        "id": "6CiMcol1irMz"
      },
      "execution_count": null,
      "outputs": []
    }
  ],
  "metadata": {
    "colab": {
      "name": "Welcome To Colab",
      "provenance": []
    },
    "kernelspec": {
      "display_name": "Python 3",
      "name": "python3"
    }
  },
  "nbformat": 4,
  "nbformat_minor": 0
}